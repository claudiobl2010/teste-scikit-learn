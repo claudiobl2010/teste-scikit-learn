{
 "cells": [
  {
   "cell_type": "code",
   "execution_count": 15,
   "id": "3a4358af-ba0b-4152-ba26-ca15723c4473",
   "metadata": {},
   "outputs": [],
   "source": [
    "import warnings\n",
    "warnings.filterwarnings('ignore')\n",
    "\n",
    "import pandas as pd\n",
    "from sklearn.model_selection import train_test_split\n",
    "from sklearn.linear_model import LinearRegression\n",
    "from sklearn import metrics\n",
    "import numpy as np"
   ]
  },
  {
   "cell_type": "code",
   "execution_count": 16,
   "id": "7b12f111-2776-4873-95b3-635f5b5edd2f",
   "metadata": {},
   "outputs": [],
   "source": [
    "testes = [['TV', 'Radio', 'Newspaper'], ['Radio', 'Newspaper'], ['TV', 'Newspaper'], ['TV', 'Radio']]\n",
    "vencedor = {'teste': '', 'perormance': None}\n",
    "primeira_passagem = True\n",
    "publi = pd.read_csv('advertising.csv')"
   ]
  },
  {
   "cell_type": "code",
   "execution_count": 37,
   "id": "dda77fae-5d49-4b6c-a791-bca630db5f17",
   "metadata": {},
   "outputs": [
    {
     "name": "stdout",
     "output_type": "stream",
     "text": [
      "- Teste                   : ['TV', 'Radio', 'Newspaper']\n",
      "- Performance             : 1.3570956388868882\n",
      "----------------------------------------------------------\n",
      "- Teste                   : ['Radio', 'Newspaper']\n",
      "- Performance             : 4.883915543206654\n",
      "----------------------------------------------------------\n",
      "- Teste                   : ['TV', 'Newspaper']\n",
      "- Performance             : 1.9214277085717903\n",
      "----------------------------------------------------------\n",
      "- Teste                   : ['TV', 'Radio']\n",
      "- Performance             : 1.354904989706292\n",
      "----------------------------------------------------------\n",
      "----------------------------------------------\n",
      "* Vencedor                : ['TV', 'Radio']\n",
      "* Performance do vencedor : 1.354904989706292\n"
     ]
    }
   ],
   "source": [
    "for teste in testes:\n",
    "    x = publi[teste]\n",
    "    y = publi['Sales']\n",
    "    x_train, x_test, y_train, y_test = train_test_split(x, y, test_size=0.30, random_state=5)\n",
    "    reglin = LinearRegression()\n",
    "    reglin.fit(x_train, y_train)\n",
    "    y_prev = reglin.predict(x_test)\n",
    "    rmse = np.sqrt(metrics.mean_squared_error(y_test, y_prev))\n",
    "    print('- Teste                   : %s' % teste)\n",
    "    print('- Performance             : %s' % rmse)\n",
    "    print('----------------------------------------------------------')\n",
    "    if primeira_passagem:\n",
    "        vencedor['teste'] = teste\n",
    "        vencedor['performance'] = rmse\n",
    "        primeira_passagem = False\n",
    "    else:\n",
    "        if rmse < vencedor['performance']:\n",
    "            vencedor['teste'] = teste\n",
    "            vencedor['performance'] = rmse\n",
    "print('----------------------------------------------------------')\n",
    "print('* Vencedor                : %s' % vencedor['teste'])\n",
    "print('* Performance do vencedor : %s' % vencedor['performance'])"
   ]
  },
  {
   "cell_type": "code",
   "execution_count": null,
   "id": "ecd2f921-d70a-4764-9829-d8487b08b22c",
   "metadata": {},
   "outputs": [],
   "source": []
  }
 ],
 "metadata": {
  "kernelspec": {
   "display_name": "Python 3 (ipykernel)",
   "language": "python",
   "name": "python3"
  },
  "language_info": {
   "codemirror_mode": {
    "name": "ipython",
    "version": 3
   },
   "file_extension": ".py",
   "mimetype": "text/x-python",
   "name": "python",
   "nbconvert_exporter": "python",
   "pygments_lexer": "ipython3",
   "version": "3.11.5"
  }
 },
 "nbformat": 4,
 "nbformat_minor": 5
}
